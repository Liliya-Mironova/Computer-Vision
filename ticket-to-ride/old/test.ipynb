{
 "cells": [
  {
   "cell_type": "code",
   "execution_count": 1,
   "metadata": {},
   "outputs": [],
   "source": [
    "from ticket_to_ride import *"
   ]
  },
  {
   "cell_type": "code",
   "execution_count": 2,
   "metadata": {},
   "outputs": [
    {
     "name": "stderr",
     "output_type": "stream",
     "text": [
      "C:\\Users\\Asus\\Anaconda3\\lib\\site-packages\\skimage\\morphology\\misc.py:208: UserWarning: Any labeled images will be returned as a boolean array. Did you mean to use a boolean array?\n",
      "  \"Did you mean to use a boolean array?\", UserWarning)\n"
     ]
    },
    {
     "data": {
      "text/plain": [
       "(46,\n",
       " {'blue': 50, 'green': 38, 'black': 3, 'yellow': 1, 'red': 40},\n",
       " {'blue': 0, 'green': 0, 'black': 0, 'yellow': 0, 'red': 0})"
      ]
     },
     "execution_count": 2,
     "metadata": {},
     "output_type": "execute_result"
    }
   ],
   "source": [
    "image = cv2.imread('red_green_blue.jpg')\n",
    "city_centers, n_trains, scores = predict_image(image)\n",
    "len(city_centers), n_trains, scores"
   ]
  },
  {
   "cell_type": "code",
   "execution_count": 3,
   "metadata": {},
   "outputs": [
    {
     "data": {
      "text/plain": [
       "(2600, 3889, 3)"
      ]
     },
     "execution_count": 3,
     "metadata": {},
     "output_type": "execute_result"
    }
   ],
   "source": [
    "image.shape"
   ]
  },
  {
   "cell_type": "code",
   "execution_count": 4,
   "metadata": {},
   "outputs": [
    {
     "data": {
      "text/plain": [
       "(array([196, 178]), array([3718, 2418]))"
      ]
     },
     "execution_count": 4,
     "metadata": {},
     "output_type": "execute_result"
    }
   ],
   "source": [
    "city_centers = np.array(city_centers)\n",
    "city_centers.min(axis=0), city_centers.max(axis=0)"
   ]
  },
  {
   "cell_type": "code",
   "execution_count": 5,
   "metadata": {},
   "outputs": [],
   "source": [
    "# city_centers"
   ]
  },
  {
   "cell_type": "code",
   "execution_count": 6,
   "metadata": {},
   "outputs": [],
   "source": [
    "# black_blue_green.jpg 47\n",
    "# black_red_yellow.jpg 48\n",
    "# red_green_blue.jpg 49\n",
    "# red_green_blue_inaccurate.jpg 48"
   ]
  }
 ],
 "metadata": {
  "kernelspec": {
   "display_name": "Python 3",
   "language": "python",
   "name": "python3"
  },
  "language_info": {
   "codemirror_mode": {
    "name": "ipython",
    "version": 3
   },
   "file_extension": ".py",
   "mimetype": "text/x-python",
   "name": "python",
   "nbconvert_exporter": "python",
   "pygments_lexer": "ipython3",
   "version": "3.7.4"
  }
 },
 "nbformat": 4,
 "nbformat_minor": 2
}
